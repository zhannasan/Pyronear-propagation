{
 "cells": [
  {
   "cell_type": "code",
   "execution_count": 11,
   "id": "9ba7521f-ba35-4b7f-979b-71c1e67fc7e6",
   "metadata": {},
   "outputs": [],
   "source": [
    "#!pip install windrose"
   ]
  },
  {
   "cell_type": "code",
   "execution_count": 308,
   "id": "c6c8039b-8bfd-4f59-aec6-49a155519360",
   "metadata": {},
   "outputs": [],
   "source": [
    "import requests\n",
    "import json\n",
    "import folium\n",
    "import pandas as pd\n",
    "import geopandas as gpd\n",
    "from shapely.geometry import Point\n",
    "from folium.plugins import MousePosition\n",
    "import matplotlib.pyplot as plt\n",
    "import numpy as np\n",
    "import datetime\n",
    "from ipywidgets import interact\n",
    "import ipywidgets as widgets\n",
    "from math import sin, cos, sqrt, atan2, radians\n",
    "from dateutil import parser\n",
    "from datetime import datetime"
   ]
  },
  {
   "cell_type": "code",
   "execution_count": 13,
   "id": "84eafdf4-fa05-442a-9d3a-cdbfa496b38b",
   "metadata": {},
   "outputs": [
    {
     "data": {
      "text/plain": [
       "<folium.plugins.mouse_position.MousePosition at 0x7f3fae206e80>"
      ]
     },
     "execution_count": 13,
     "metadata": {},
     "output_type": "execute_result"
    }
   ],
   "source": [
    "# Map of France\n",
    "frmap = folium.Map(\n",
    "    location=[47,4],\n",
    "    tiles='cartodbpositron',\n",
    "    zoom_start=6,\n",
    "    control_scale=True\n",
    ")\n",
    "MousePosition().add_to(frmap)"
   ]
  },
  {
   "cell_type": "code",
   "execution_count": 14,
   "id": "3f8bd3d9-cb2d-4555-9ff6-3ec6df008482",
   "metadata": {},
   "outputs": [],
   "source": [
    "# Convert degrees to cardinal direction\n",
    "def degree_to_cardinal(theta):\n",
    "    if  11.25>=theta>=348.75:\n",
    "        return 'N'\n",
    "    elif 11.25<theta<= 33.75:\n",
    "        return 'NNE'\n",
    "    elif 33.75 <theta<= 56.25:\n",
    "        return 'NE'\n",
    "    elif 56.25 <theta<= 78.75:\n",
    "        return 'ENE'\n",
    "    elif 78.75 <theta<= 101.25:\n",
    "        return 'E'\n",
    "    elif 101.25 <theta<= 123.75:\n",
    "        return 'ESE'\n",
    "    elif 123.75 <theta<= 146.25:\n",
    "        return 'SE'\n",
    "    elif 146.25 <theta<= 168.75:\n",
    "        return 'SSE'\n",
    "    elif 168.75 <theta<= 191.25:\n",
    "        return 'S'\n",
    "    elif 191.25 <theta<= 213.75:\n",
    "        return 'SSW'\n",
    "    elif 213.75 <theta<= 236.25:\n",
    "        return 'SW'\n",
    "    elif 236.25 <theta<= 258.75:\n",
    "        return 'WSW'\n",
    "    elif 258.75 <theta<= 281.25:\n",
    "        return 'W'\n",
    "    elif 281.25 <theta<= 303.75:\n",
    "        return 'WNW'\n",
    "    elif 303.75  <theta<= 326.25:\n",
    "        return 'NW'\n",
    "    elif 326.25 <theta<= 348.75:\n",
    "        return 'NNW'"
   ]
  },
  {
   "cell_type": "code",
   "execution_count": 24,
   "id": "fd5cd7d7-576f-48e7-a6b3-4e04528da0e1",
   "metadata": {},
   "outputs": [],
   "source": [
    "# calculate earth radius for a given latitude: https://www.mathworks.com/help/aeroblks/radiusatgeocentriclatitude.html\n",
    "def get_radius(lat,elevation):\n",
    "    re= 6378137 #m radius at the equator\n",
    "    f=1/298.257223563 #Earth flattening\n",
    "    r=re/(1+(1/(1-f)**2-1)*sin(lat)**2)+elevation # TODO: wrong elevation bc of geometry but mb there is a method\n",
    "    return r"
   ]
  },
  {
   "cell_type": "code",
   "execution_count": 376,
   "id": "6db119cf-7d38-41eb-b189-3e2a306252d6",
   "metadata": {},
   "outputs": [],
   "source": [
    "# This is a quick and dirty conversion, should use proper projections\n",
    "# dist is in m\n",
    "def get_degree(dist, lat, elevation):\n",
    "    degr=dist*360/(np.pi*2*get_radius(lat, elevation))\n",
    "    return degr\n",
    "step_size=get_degree(2300,43.6184, 216) # a very small number for 10 m => the API resolution is ~2.5km?"
   ]
  },
  {
   "cell_type": "code",
   "execution_count": 377,
   "id": "715a362d-01ec-4660-9775-993f01179bed",
   "metadata": {
    "tags": []
   },
   "outputs": [
    {
     "name": "stdout",
     "output_type": "stream",
     "text": [
      "43.597721809849425 43.65975638\n",
      "[43.59772181 43.6184     43.63907819]\n",
      "Lattice centroids:\n"
     ]
    },
    {
     "data": {
      "image/png": "[encoded data removed]",
      "text/plain": [
       "<Figure size 432x288 with 1 Axes>"
      ]
     },
     "metadata": {
      "needs_background": "light"
     },
     "output_type": "display_data"
    }
   ],
   "source": [
    "lat, lon = 43.6184, 5.306\n",
    "n_coord = 1\n",
    "minlat, maxlat = lat-step_size*n_coord, round(lat+step_size*(n_coord+1),8)\n",
    "minlon, maxlon = lon-step_size*n_coord, round(lon+step_size*(n_coord+1),8)\n",
    "print(minlat, maxlat)\n",
    "lats = np.arange(minlat, maxlat, step_size)\n",
    "lons = np.arange(minlon, maxlon, step_size)\n",
    "print(lats)\n",
    "coordinates = np.array([[x, y] for x in lats for y in lons])\n",
    "print(\"Lattice centroids:\")\n",
    "plt.scatter(coordinates[:, 0], coordinates[:, 1], color='g')\n",
    "plt.scatter(lat, lon, color='r')\n",
    "plt.show()"
   ]
  },
  {
   "cell_type": "code",
   "execution_count": 378,
   "id": "194b9e97-ccae-471f-9dde-2d35e8998fbb",
   "metadata": {},
   "outputs": [
    {
     "data": {
      "text/html": [
       "<div>\n",
       "<style scoped>\n",
       "    .dataframe tbody tr th:only-of-type {\n",
       "        vertical-align: middle;\n",
       "    }\n",
       "\n",
       "    .dataframe tbody tr th {\n",
       "        vertical-align: top;\n",
       "    }\n",
       "\n",
       "    .dataframe thead th {\n",
       "        text-align: right;\n",
       "    }\n",
       "</style>\n",
       "<table border=\"1\" class=\"dataframe\">\n",
       "  <thead>\n",
       "    <tr style=\"text-align: right;\">\n",
       "      <th></th>\n",
       "      <th>index</th>\n",
       "      <th>latitude</th>\n",
       "      <th>longitude</th>\n",
       "    </tr>\n",
       "  </thead>\n",
       "  <tbody>\n",
       "    <tr>\n",
       "      <th>0</th>\n",
       "      <td>0</td>\n",
       "      <td>43.597722</td>\n",
       "      <td>5.285322</td>\n",
       "    </tr>\n",
       "    <tr>\n",
       "      <th>1</th>\n",
       "      <td>1</td>\n",
       "      <td>43.597722</td>\n",
       "      <td>5.306000</td>\n",
       "    </tr>\n",
       "    <tr>\n",
       "      <th>2</th>\n",
       "      <td>2</td>\n",
       "      <td>43.597722</td>\n",
       "      <td>5.326678</td>\n",
       "    </tr>\n",
       "    <tr>\n",
       "      <th>3</th>\n",
       "      <td>3</td>\n",
       "      <td>43.618400</td>\n",
       "      <td>5.285322</td>\n",
       "    </tr>\n",
       "    <tr>\n",
       "      <th>4</th>\n",
       "      <td>4</td>\n",
       "      <td>43.618400</td>\n",
       "      <td>5.306000</td>\n",
       "    </tr>\n",
       "  </tbody>\n",
       "</table>\n",
       "</div>"
      ],
      "text/plain": [
       "   index   latitude  longitude\n",
       "0      0  43.597722   5.285322\n",
       "1      1  43.597722   5.306000\n",
       "2      2  43.597722   5.326678\n",
       "3      3  43.618400   5.285322\n",
       "4      4  43.618400   5.306000"
      ]
     },
     "execution_count": 378,
     "metadata": {},
     "output_type": "execute_result"
    }
   ],
   "source": [
    "l,m=[],[]\n",
    "for i in coordinates:\n",
    "    l.append(i[0])\n",
    "    m.append(i[1])\n",
    "locdf = pd.DataFrame({\"latitude\": l, \"longitude\": m}).reset_index()\n",
    "locdf.head()"
   ]
  },
  {
   "cell_type": "code",
   "execution_count": 379,
   "id": "5e5a4816-7fe7-4356-8979-f1a306999120",
   "metadata": {},
   "outputs": [],
   "source": [
    "# Get a 7 day hourly prediction\n",
    "# Here we get temperature and relative humidity within 2m, precipitation, wind speed and wind direction within 10 m\n",
    "frames=[]\n",
    "for i, row in locdf.iterrows():\n",
    "    url=\"https://api.open-meteo.com/v1/forecast?latitude=\"+str(row[\"latitude\"])+\"&longitude=\"+str(row[\"longitude\"])+\"&hourly=temperature_2m,relativehumidity_2m,precipitation,windspeed_10m,winddirection_10m\"\n",
    "    x = requests.get(url)\n",
    "    y = json.loads(x.text)\n",
    "    x.close()\n",
    "    # to make place-time series:\n",
    "    df = pd.json_normalize(y, sep='_')\n",
    "    df['hourly_time'] =[[parser.parse(d) for d in df[\"hourly_time\"][0]]]\n",
    "    frames.append(df)\n",
    "dff=pd.concat(frames)"
   ]
  },
  {
   "cell_type": "code",
   "execution_count": 380,
   "id": "277be086-a1e7-41e2-9b1f-09a99d9bbec3",
   "metadata": {},
   "outputs": [
    {
     "data": {
      "text/html": [
       "<div>\n",
       "<style scoped>\n",
       "    .dataframe tbody tr th:only-of-type {\n",
       "        vertical-align: middle;\n",
       "    }\n",
       "\n",
       "    .dataframe tbody tr th {\n",
       "        vertical-align: top;\n",
       "    }\n",
       "\n",
       "    .dataframe thead th {\n",
       "        text-align: right;\n",
       "    }\n",
       "</style>\n",
       "<table border=\"1\" class=\"dataframe\">\n",
       "  <thead>\n",
       "    <tr style=\"text-align: right;\">\n",
       "      <th></th>\n",
       "      <th>generationtime_ms</th>\n",
       "      <th>elevation</th>\n",
       "      <th>latitude</th>\n",
       "      <th>utc_offset_seconds</th>\n",
       "      <th>longitude</th>\n",
       "      <th>hourly_winddirection_10m</th>\n",
       "      <th>hourly_precipitation</th>\n",
       "      <th>hourly_windspeed_10m</th>\n",
       "      <th>hourly_temperature_2m</th>\n",
       "      <th>hourly_relativehumidity_2m</th>\n",
       "      <th>hourly_time</th>\n",
       "      <th>hourly_units_winddirection_10m</th>\n",
       "      <th>hourly_units_windspeed_10m</th>\n",
       "      <th>hourly_units_precipitation</th>\n",
       "      <th>hourly_units_temperature_2m</th>\n",
       "      <th>hourly_units_relativehumidity_2m</th>\n",
       "      <th>hourly_units_time</th>\n",
       "    </tr>\n",
       "  </thead>\n",
       "  <tbody>\n",
       "    <tr>\n",
       "      <th>0</th>\n",
       "      <td>1.698971</td>\n",
       "      <td>195.875</td>\n",
       "      <td>43.60</td>\n",
       "      <td>0</td>\n",
       "      <td>5.28</td>\n",
       "      <td>[94, 89, 98, 88, 86, 96, 92, 71, 342, 4, 197, ...</td>\n",
       "      <td>[0, 0, 0, 0, 0, 0, 0, 0, 0, 0, 0, 0, 0, 0, 0, ...</td>\n",
       "      <td>[5.2, 5, 5.1, 5.4, 5.8, 5.6, 5, 2.1, 1.9, 0.5,...</td>\n",
       "      <td>[17.3, 17.2, 16.8, 16.6, 16.6, 18, 20.3, 22.8,...</td>\n",
       "      <td>[76, 75, 76, 76, 76, 69, 61, 52, 43, 35, 31, 3...</td>\n",
       "      <td>[2022-06-02 00:00:00, 2022-06-02 01:00:00, 202...</td>\n",
       "      <td>°</td>\n",
       "      <td>km/h</td>\n",
       "      <td>mm</td>\n",
       "      <td>°C</td>\n",
       "      <td>%</td>\n",
       "      <td>iso8601</td>\n",
       "    </tr>\n",
       "    <tr>\n",
       "      <th>0</th>\n",
       "      <td>1.757026</td>\n",
       "      <td>209.625</td>\n",
       "      <td>43.60</td>\n",
       "      <td>0</td>\n",
       "      <td>5.30</td>\n",
       "      <td>[94, 88, 91, 88, 86, 90, 90, 78, 30, 76, 158, ...</td>\n",
       "      <td>[0, 0, 0, 0, 0, 0, 0, 0, 0, 0, 0, 0, 0, 0, 0, ...</td>\n",
       "      <td>[5.8, 5.7, 6, 6, 6.6, 6.8, 5.9, 3.3, 2, 1.4, 2...</td>\n",
       "      <td>[17.7, 17.6, 17.1, 16.9, 16.8, 18.1, 20.2, 22....</td>\n",
       "      <td>[74, 73, 75, 75, 76, 69, 62, 53, 43, 34, 30, 3...</td>\n",
       "      <td>[2022-06-02 00:00:00, 2022-06-02 01:00:00, 202...</td>\n",
       "      <td>°</td>\n",
       "      <td>km/h</td>\n",
       "      <td>mm</td>\n",
       "      <td>°C</td>\n",
       "      <td>%</td>\n",
       "      <td>iso8601</td>\n",
       "    </tr>\n",
       "    <tr>\n",
       "      <th>0</th>\n",
       "      <td>1.775980</td>\n",
       "      <td>232.000</td>\n",
       "      <td>43.60</td>\n",
       "      <td>0</td>\n",
       "      <td>5.32</td>\n",
       "      <td>[90, 84, 86, 84, 83, 86, 86, 74, 48, 75, 153, ...</td>\n",
       "      <td>[0, 0, 0, 0, 0, 0, 0, 0, 0, 0, 0, 0, 0, 0, 0, ...</td>\n",
       "      <td>[6.1, 6.1, 6.5, 6.3, 6.9, 7.4, 6.2, 3.6, 2.4, ...</td>\n",
       "      <td>[17.7, 17.6, 17.2, 16.7, 16.6, 17.6, 19.7, 22....</td>\n",
       "      <td>[73, 73, 75, 77, 77, 72, 65, 55, 44, 35, 31, 3...</td>\n",
       "      <td>[2022-06-02 00:00:00, 2022-06-02 01:00:00, 202...</td>\n",
       "      <td>°</td>\n",
       "      <td>km/h</td>\n",
       "      <td>mm</td>\n",
       "      <td>°C</td>\n",
       "      <td>%</td>\n",
       "      <td>iso8601</td>\n",
       "    </tr>\n",
       "    <tr>\n",
       "      <th>0</th>\n",
       "      <td>1.788020</td>\n",
       "      <td>187.375</td>\n",
       "      <td>43.62</td>\n",
       "      <td>0</td>\n",
       "      <td>5.28</td>\n",
       "      <td>[91, 83, 78, 86, 80, 77, 85, 79, 22, 92, 140, ...</td>\n",
       "      <td>[0, 0, 0, 0, 0, 0, 0, 0, 0, 0, 0, 0, 0, 0, 0, ...</td>\n",
       "      <td>[6, 6, 6.4, 6.3, 7, 7.3, 6.1, 3.7, 2.2, 1.8, 3...</td>\n",
       "      <td>[17.7, 17.6, 17.1, 16.9, 16.7, 17.9, 20.4, 22....</td>\n",
       "      <td>[74, 73, 74, 75, 76, 70, 61, 52, 43, 34, 29, 2...</td>\n",
       "      <td>[2022-06-02 00:00:00, 2022-06-02 01:00:00, 202...</td>\n",
       "      <td>°</td>\n",
       "      <td>km/h</td>\n",
       "      <td>mm</td>\n",
       "      <td>°C</td>\n",
       "      <td>%</td>\n",
       "      <td>iso8601</td>\n",
       "    </tr>\n",
       "    <tr>\n",
       "      <th>0</th>\n",
       "      <td>1.739025</td>\n",
       "      <td>216.750</td>\n",
       "      <td>43.62</td>\n",
       "      <td>0</td>\n",
       "      <td>5.30</td>\n",
       "      <td>[95, 88, 86, 89, 85, 84, 88, 81, 42, 90, 136, ...</td>\n",
       "      <td>[0, 0, 0, 0, 0, 0, 0, 0, 0, 0, 0, 0, 0, 0, 0, ...</td>\n",
       "      <td>[6.5, 6.7, 7.5, 6.9, 7.6, 8.3, 6.7, 4.3, 2.5, ...</td>\n",
       "      <td>[17.8, 17.6, 17.1, 16.7, 16.5, 17.6, 20, 22.5,...</td>\n",
       "      <td>[74, 72, 74, 76, 77, 71, 63, 53, 44, 34, 30, 3...</td>\n",
       "      <td>[2022-06-02 00:00:00, 2022-06-02 01:00:00, 202...</td>\n",
       "      <td>°</td>\n",
       "      <td>km/h</td>\n",
       "      <td>mm</td>\n",
       "      <td>°C</td>\n",
       "      <td>%</td>\n",
       "      <td>iso8601</td>\n",
       "    </tr>\n",
       "  </tbody>\n",
       "</table>\n",
       "</div>"
      ],
      "text/plain": [
       "   generationtime_ms  elevation  latitude  utc_offset_seconds  longitude  \\\n",
       "0           1.698971    195.875     43.60                   0       5.28   \n",
       "0           1.757026    209.625     43.60                   0       5.30   \n",
       "0           1.775980    232.000     43.60                   0       5.32   \n",
       "0           1.788020    187.375     43.62                   0       5.28   \n",
       "0           1.739025    216.750     43.62                   0       5.30   \n",
       "\n",
       "                            hourly_winddirection_10m  \\\n",
       "0  [94, 89, 98, 88, 86, 96, 92, 71, 342, 4, 197, ...   \n",
       "0  [94, 88, 91, 88, 86, 90, 90, 78, 30, 76, 158, ...   \n",
       "0  [90, 84, 86, 84, 83, 86, 86, 74, 48, 75, 153, ...   \n",
       "0  [91, 83, 78, 86, 80, 77, 85, 79, 22, 92, 140, ...   \n",
       "0  [95, 88, 86, 89, 85, 84, 88, 81, 42, 90, 136, ...   \n",
       "\n",
       "                                hourly_precipitation  \\\n",
       "0  [0, 0, 0, 0, 0, 0, 0, 0, 0, 0, 0, 0, 0, 0, 0, ...   \n",
       "0  [0, 0, 0, 0, 0, 0, 0, 0, 0, 0, 0, 0, 0, 0, 0, ...   \n",
       "0  [0, 0, 0, 0, 0, 0, 0, 0, 0, 0, 0, 0, 0, 0, 0, ...   \n",
       "0  [0, 0, 0, 0, 0, 0, 0, 0, 0, 0, 0, 0, 0, 0, 0, ...   \n",
       "0  [0, 0, 0, 0, 0, 0, 0, 0, 0, 0, 0, 0, 0, 0, 0, ...   \n",
       "\n",
       "                                hourly_windspeed_10m  \\\n",
       "0  [5.2, 5, 5.1, 5.4, 5.8, 5.6, 5, 2.1, 1.9, 0.5,...   \n",
       "0  [5.8, 5.7, 6, 6, 6.6, 6.8, 5.9, 3.3, 2, 1.4, 2...   \n",
       "0  [6.1, 6.1, 6.5, 6.3, 6.9, 7.4, 6.2, 3.6, 2.4, ...   \n",
       "0  [6, 6, 6.4, 6.3, 7, 7.3, 6.1, 3.7, 2.2, 1.8, 3...   \n",
       "0  [6.5, 6.7, 7.5, 6.9, 7.6, 8.3, 6.7, 4.3, 2.5, ...   \n",
       "\n",
       "                               hourly_temperature_2m  \\\n",
       "0  [17.3, 17.2, 16.8, 16.6, 16.6, 18, 20.3, 22.8,...   \n",
       "0  [17.7, 17.6, 17.1, 16.9, 16.8, 18.1, 20.2, 22....   \n",
       "0  [17.7, 17.6, 17.2, 16.7, 16.6, 17.6, 19.7, 22....   \n",
       "0  [17.7, 17.6, 17.1, 16.9, 16.7, 17.9, 20.4, 22....   \n",
       "0  [17.8, 17.6, 17.1, 16.7, 16.5, 17.6, 20, 22.5,...   \n",
       "\n",
       "                          hourly_relativehumidity_2m  \\\n",
       "0  [76, 75, 76, 76, 76, 69, 61, 52, 43, 35, 31, 3...   \n",
       "0  [74, 73, 75, 75, 76, 69, 62, 53, 43, 34, 30, 3...   \n",
       "0  [73, 73, 75, 77, 77, 72, 65, 55, 44, 35, 31, 3...   \n",
       "0  [74, 73, 74, 75, 76, 70, 61, 52, 43, 34, 29, 2...   \n",
       "0  [74, 72, 74, 76, 77, 71, 63, 53, 44, 34, 30, 3...   \n",
       "\n",
       "                                         hourly_time  \\\n",
       "0  [2022-06-02 00:00:00, 2022-06-02 01:00:00, 202...   \n",
       "0  [2022-06-02 00:00:00, 2022-06-02 01:00:00, 202...   \n",
       "0  [2022-06-02 00:00:00, 2022-06-02 01:00:00, 202...   \n",
       "0  [2022-06-02 00:00:00, 2022-06-02 01:00:00, 202...   \n",
       "0  [2022-06-02 00:00:00, 2022-06-02 01:00:00, 202...   \n",
       "\n",
       "  hourly_units_winddirection_10m hourly_units_windspeed_10m  \\\n",
       "0                              °                       km/h   \n",
       "0                              °                       km/h   \n",
       "0                              °                       km/h   \n",
       "0                              °                       km/h   \n",
       "0                              °                       km/h   \n",
       "\n",
       "  hourly_units_precipitation hourly_units_temperature_2m  \\\n",
       "0                         mm                          °C   \n",
       "0                         mm                          °C   \n",
       "0                         mm                          °C   \n",
       "0                         mm                          °C   \n",
       "0                         mm                          °C   \n",
       "\n",
       "  hourly_units_relativehumidity_2m hourly_units_time  \n",
       "0                                %           iso8601  \n",
       "0                                %           iso8601  \n",
       "0                                %           iso8601  \n",
       "0                                %           iso8601  \n",
       "0                                %           iso8601  "
      ]
     },
     "execution_count": 380,
     "metadata": {},
     "output_type": "execute_result"
    }
   ],
   "source": [
    "dff.head()"
   ]
  },
  {
   "cell_type": "code",
   "execution_count": 405,
   "id": "d7b94f24-f678-4df1-8f7a-4395c7b2690b",
   "metadata": {},
   "outputs": [],
   "source": [
    "# get current hours conditions:\n",
    "now=datetime.now().time()\n",
    "idx=0\n",
    "for i, val in enumerate(df.iloc[0][\"hourly_time\"][0:24]):\n",
    "    if now.hour==val.hour:\n",
    "        idx=i"
   ]
  },
  {
   "cell_type": "code",
   "execution_count": 404,
   "id": "3f3788a1-780f-42cd-9acd-6e3ae729e903",
   "metadata": {},
   "outputs": [
    {
     "data": {
      "application/vnd.jupyter.widget-view+json": {
       "model_id": "4b252eab31064673b82acaadcd0b0d9c",
       "version_major": 2,
       "version_minor": 0
      },
      "text/plain": [
       "interactive(children=(Dropdown(description='x', options=('hourly_temperature_2m', 'hourly_relativehumidity_2m'…"
      ]
     },
     "metadata": {},
     "output_type": "display_data"
    },
    {
     "data": {
      "text/plain": [
       "<function __main__.f(x)>"
      ]
     },
     "execution_count": 404,
     "metadata": {},
     "output_type": "execute_result"
    }
   ],
   "source": [
    "# interactive plots\n",
    "def f(x):\n",
    "    plt.plot(np.arange(0,24,1),hourly[str(x)][0][0:24])\n",
    "    plt.plot(now.hour,hourly[str(x)][0][idx], 'or')\n",
    "    plt.xlabel('Hours', fontsize=16)\n",
    "    if 'temperature' in x:\n",
    "        plt.ylabel('°C',fontsize=16)\n",
    "    elif 'windspeed' in x:\n",
    "        plt.ylabel('km/h',fontsize=16)\n",
    "    elif 'relativehumidity' in x:\n",
    "        plt.ylabel('%',fontsize=16)\n",
    "    elif 'winddirection' in x:\n",
    "        plt.ylabel('°',fontsize=16)\n",
    "    else:\n",
    "        plt.ylabel('mm',fontsize=16)\n",
    "\n",
    "hourly=df[['hourly_temperature_2m','hourly_relativehumidity_2m','hourly_windspeed_10m','hourly_precipitation','hourly_winddirection_10m']]\n",
    "\n",
    "interact(f,x=hourly)"
   ]
  },
  {
   "cell_type": "code",
   "execution_count": 406,
   "id": "5fc2d499-e7c5-4853-a9eb-4fe9422d6b3c",
   "metadata": {},
   "outputs": [
    {
     "data": {
      "text/html": [
       "<div style=\"width:100%;\"><div style=\"position:relative;width:100%;height:0;padding-bottom:60%;\"><span style=\"color:#565656\">Make this Notebook Trusted to load map: File -> Trust Notebook</span><iframe src=\"about:blank\" style=\"position:absolute;width:100%;height:100%;left:0;top:0;border:none !important;\" data-html=%3C%21DOCTYPE%20html%3E%0A%3Chead%3E%20%20%20%20%0A%20%20%20%20%3Cmeta%20http-equiv%3D%22content-type%22%20content%3D%22text/html%3B%20charset%3DUTF-8%22%20/%3E%0A%20%20%20%20%3Cscript%3EL_PREFER_CANVAS%3Dfalse%3B%20L_NO_TOUCH%3Dfalse%3B%20L_DISABLE_3D%3Dfalse%3B%3C/script%3E%0A%20%20%20%20%3Cscript%20src%3D%22https%3A//cdn.jsdelivr.net/npm/leaflet%401.3.4/dist/leaflet.js%22%3E%3C/script%3E%0A%20%20%20%20%3Cscript%20src%3D%22https%3A//ajax.googleapis.com/ajax/libs/jquery/1.11.1/jquery.min.js%22%3E%3C/script%3E%0A%20%20%20%20%3Cscript%20src%3D%22https%3A//maxcdn.bootstrapcdn.com/bootstrap/3.2.0/js/bootstrap.min.js%22%3E%3C/script%3E%0A%20%20%20%20%3Cscript%20src%3D%22https%3A//cdnjs.cloudflare.com/ajax/libs/Leaflet.awesome-markers/2.0.2/leaflet.awesome-markers.js%22%3E%3C/script%3E%0A%20%20%20%20%3Clink%20rel%3D%22stylesheet%22%20href%3D%22https%3A//cdn.jsdelivr.net/npm/leaflet%401.3.4/dist/leaflet.css%22/%3E%0A%20%20%20%20%3Clink%20rel%3D%22stylesheet%22%20href%3D%22https%3A//maxcdn.bootstrapcdn.com/bootstrap/3.2.0/css/bootstrap.min.css%22/%3E%0A%20%20%20%20%3Clink%20rel%3D%22stylesheet%22%20href%3D%22https%3A//maxcdn.bootstrapcdn.com/bootstrap/3.2.0/css/bootstrap-theme.min.css%22/%3E%0A%20%20%20%20%3Clink%20rel%3D%22stylesheet%22%20href%3D%22https%3A//maxcdn.bootstrapcdn.com/font-awesome/4.6.3/css/font-awesome.min.css%22/%3E%0A%20%20%20%20%3Clink%20rel%3D%22stylesheet%22%20href%3D%22https%3A//cdnjs.cloudflare.com/ajax/libs/Leaflet.awesome-markers/2.0.2/leaflet.awesome-markers.css%22/%3E%0A%20%20%20%20%3Clink%20rel%3D%22stylesheet%22%20href%3D%22https%3A//rawcdn.githack.com/python-visualization/folium/master/folium/templates/leaflet.awesome.rotate.css%22/%3E%0A%20%20%20%20%3Cstyle%3Ehtml%2C%20body%20%7Bwidth%3A%20100%25%3Bheight%3A%20100%25%3Bmargin%3A%200%3Bpadding%3A%200%3B%7D%3C/style%3E%0A%20%20%20%20%3Cstyle%3E%23map%20%7Bposition%3Aabsolute%3Btop%3A0%3Bbottom%3A0%3Bright%3A0%3Bleft%3A0%3B%7D%3C/style%3E%0A%20%20%20%20%0A%20%20%20%20%3Cmeta%20name%3D%22viewport%22%20content%3D%22width%3Ddevice-width%2C%0A%20%20%20%20%20%20%20%20initial-scale%3D1.0%2C%20maximum-scale%3D1.0%2C%20user-scalable%3Dno%22%20/%3E%0A%20%20%20%20%3Cstyle%3E%23map_e1aaac75f621470787d206af9a14ada5%20%7B%0A%20%20%20%20%20%20%20%20position%3A%20relative%3B%0A%20%20%20%20%20%20%20%20width%3A%20100.0%25%3B%0A%20%20%20%20%20%20%20%20height%3A%20100.0%25%3B%0A%20%20%20%20%20%20%20%20left%3A%200.0%25%3B%0A%20%20%20%20%20%20%20%20top%3A%200.0%25%3B%0A%20%20%20%20%20%20%20%20%7D%0A%20%20%20%20%3C/style%3E%0A%20%20%20%20%3Cscript%20src%3D%22https%3A//rawcdn.githack.com/ardhi/Leaflet.MousePosition/c32f1c84/src/L.Control.MousePosition.js%22%3E%3C/script%3E%0A%20%20%20%20%3Clink%20rel%3D%22stylesheet%22%20href%3D%22https%3A//rawcdn.githack.com/ardhi/Leaflet.MousePosition/c32f1c84/src/L.Control.MousePosition.css%22/%3E%0A%20%20%20%20%3Cscript%20src%3D%22https%3A//rawcdn.githack.com/ardhi/Leaflet.MousePosition/c32f1c84/src/L.Control.MousePosition.js%22%3E%3C/script%3E%0A%20%20%20%20%3Clink%20rel%3D%22stylesheet%22%20href%3D%22https%3A//rawcdn.githack.com/ardhi/Leaflet.MousePosition/c32f1c84/src/L.Control.MousePosition.css%22/%3E%0A%20%20%20%20%3Cscript%20src%3D%22https%3A//rawcdn.githack.com/ardhi/Leaflet.MousePosition/c32f1c84/src/L.Control.MousePosition.js%22%3E%3C/script%3E%0A%20%20%20%20%3Clink%20rel%3D%22stylesheet%22%20href%3D%22https%3A//rawcdn.githack.com/ardhi/Leaflet.MousePosition/c32f1c84/src/L.Control.MousePosition.css%22/%3E%0A%20%20%20%20%3Cscript%20src%3D%22https%3A//rawcdn.githack.com/ardhi/Leaflet.MousePosition/c32f1c84/src/L.Control.MousePosition.js%22%3E%3C/script%3E%0A%20%20%20%20%3Clink%20rel%3D%22stylesheet%22%20href%3D%22https%3A//rawcdn.githack.com/ardhi/Leaflet.MousePosition/c32f1c84/src/L.Control.MousePosition.css%22/%3E%0A%3C/head%3E%0A%3Cbody%3E%20%20%20%20%0A%20%20%20%20%0A%20%20%20%20%3Cdiv%20class%3D%22folium-map%22%20id%3D%22map_e1aaac75f621470787d206af9a14ada5%22%20%3E%3C/div%3E%0A%3C/body%3E%0A%3Cscript%3E%20%20%20%20%0A%20%20%20%20%0A%20%20%20%20%0A%20%20%20%20%20%20%20%20var%20bounds%20%3D%20null%3B%0A%20%20%20%20%0A%0A%20%20%20%20var%20map_e1aaac75f621470787d206af9a14ada5%20%3D%20L.map%28%0A%20%20%20%20%20%20%20%20%27map_e1aaac75f621470787d206af9a14ada5%27%2C%20%7B%0A%20%20%20%20%20%20%20%20center%3A%20%5B47%2C%204%5D%2C%0A%20%20%20%20%20%20%20%20zoom%3A%206%2C%0A%20%20%20%20%20%20%20%20maxBounds%3A%20bounds%2C%0A%20%20%20%20%20%20%20%20layers%3A%20%5B%5D%2C%0A%20%20%20%20%20%20%20%20worldCopyJump%3A%20false%2C%0A%20%20%20%20%20%20%20%20crs%3A%20L.CRS.EPSG3857%2C%0A%20%20%20%20%20%20%20%20zoomControl%3A%20true%2C%0A%20%20%20%20%20%20%20%20%7D%29%3B%0AL.control.scale%28%29.addTo%28map_e1aaac75f621470787d206af9a14ada5%29%3B%0A%20%20%20%20%0A%20%20%20%20%0A%20%20%20%20var%20tile_layer_acdd5998e4e04277a4ea63f145643dc6%20%3D%20L.tileLayer%28%0A%20%20%20%20%20%20%20%20%27https%3A//cartodb-basemaps-%7Bs%7D.global.ssl.fastly.net/light_all/%7Bz%7D/%7Bx%7D/%7By%7D.png%27%2C%0A%20%20%20%20%20%20%20%20%7B%0A%20%20%20%20%20%20%20%20%22attribution%22%3A%20null%2C%0A%20%20%20%20%20%20%20%20%22detectRetina%22%3A%20false%2C%0A%20%20%20%20%20%20%20%20%22maxNativeZoom%22%3A%2018%2C%0A%20%20%20%20%20%20%20%20%22maxZoom%22%3A%2018%2C%0A%20%20%20%20%20%20%20%20%22minZoom%22%3A%200%2C%0A%20%20%20%20%20%20%20%20%22noWrap%22%3A%20false%2C%0A%20%20%20%20%20%20%20%20%22opacity%22%3A%201%2C%0A%20%20%20%20%20%20%20%20%22subdomains%22%3A%20%22abc%22%2C%0A%20%20%20%20%20%20%20%20%22tms%22%3A%20false%0A%7D%29.addTo%28map_e1aaac75f621470787d206af9a14ada5%29%3B%0A%20%20%20%20%0A%0A%20%20%20%20%20%20%20%20var%20mouse_position_1f99115ad3c442a3bfb696e32e6cdf10%20%3D%20new%20L.Control.MousePosition%28%0A%20%20%20%20%20%20%20%20%20%20%20%20%7B%0A%20%20%22emptyString%22%3A%20%22Unavailable%22%2C%0A%20%20%22lngFirst%22%3A%20false%2C%0A%20%20%22numDigits%22%3A%205%2C%0A%20%20%22position%22%3A%20%22bottomright%22%2C%0A%20%20%22prefix%22%3A%20%22%22%2C%0A%20%20%22separator%22%3A%20%22%20%3A%20%22%0A%7D%29%3B%0A%20%20%20%20%20%20%20%20mouse_position_1f99115ad3c442a3bfb696e32e6cdf10.options%5B%22latFormatter%22%5D%20%3D%20undefined%3B%0A%20%20%20%20%20%20%20%20mouse_position_1f99115ad3c442a3bfb696e32e6cdf10.options%5B%22lngFormatter%22%5D%20%3D%20undefined%3B%0A%20%20%20%20%20%20%20%20map_e1aaac75f621470787d206af9a14ada5.addControl%28mouse_position_1f99115ad3c442a3bfb696e32e6cdf10%29%3B%0A%0A%20%20%20%20%20%20%20%20%0A%20%20%20%20%0A%20%20%20%20%20%20%20%20var%20marker_76e32a4dd9f240998a2dc7f27250fd2d%20%3D%20L.marker%28%0A%20%20%20%20%20%20%20%20%20%20%20%20%5B44.6184747%2C%204.3061143%5D%2C%0A%20%20%20%20%20%20%20%20%20%20%20%20%7B%0A%20%20%20%20%20%20%20%20%20%20%20%20%20%20%20%20icon%3A%20new%20L.Icon.Default%28%29%0A%20%20%20%20%20%20%20%20%20%20%20%20%20%20%20%20%7D%0A%20%20%20%20%20%20%20%20%20%20%20%20%29.addTo%28map_e1aaac75f621470787d206af9a14ada5%29%3B%0A%20%20%20%20%20%20%20%20%0A%20%20%20%20%0A%0A%20%20%20%20%20%20%20%20%20%20%20%20%20%20%20%20var%20icon_76d4975c996c41068bb184094a2fbb98%20%3D%20L.AwesomeMarkers.icon%28%7B%0A%20%20%20%20%20%20%20%20%20%20%20%20%20%20%20%20%20%20%20%20icon%3A%20%27fire%27%2C%0A%20%20%20%20%20%20%20%20%20%20%20%20%20%20%20%20%20%20%20%20iconColor%3A%20%27white%27%2C%0A%20%20%20%20%20%20%20%20%20%20%20%20%20%20%20%20%20%20%20%20markerColor%3A%20%27red%27%2C%0A%20%20%20%20%20%20%20%20%20%20%20%20%20%20%20%20%20%20%20%20prefix%3A%20%27glyphicon%27%2C%0A%20%20%20%20%20%20%20%20%20%20%20%20%20%20%20%20%20%20%20%20extraClasses%3A%20%27fa-rotate-0%27%0A%20%20%20%20%20%20%20%20%20%20%20%20%20%20%20%20%20%20%20%20%7D%29%3B%0A%20%20%20%20%20%20%20%20%20%20%20%20%20%20%20%20marker_76e32a4dd9f240998a2dc7f27250fd2d.setIcon%28icon_76d4975c996c41068bb184094a2fbb98%29%3B%0A%20%20%20%20%20%20%20%20%20%20%20%20%0A%20%20%20%20%0A%20%20%20%20%20%20%20%20%20%20%20%20var%20popup_ce39db06e2ed4c9f8eba0b4cc9cdd8d3%20%3D%20L.popup%28%7BmaxWidth%3A%20%27300%27%0A%20%20%20%20%20%20%20%20%20%20%20%20%0A%20%20%20%20%20%20%20%20%20%20%20%20%7D%29%3B%0A%0A%20%20%20%20%20%20%20%20%20%20%20%20%0A%20%20%20%20%20%20%20%20%20%20%20%20%20%20%20%20var%20i_frame_2ba9336745cf4dc6a36fcb36d7e12c24%20%3D%20%24%28%60%3Ciframe%20src%3D%22data%3Atext/html%3Bcharset%3Dutf-8%3Bbase64%2CCiAgICBUZW1wZXJhdHVyZTogMjkuNiDCsEM8YnI%2BIFdpbmQgZGlyZWN0aW9uOiBTVyA8YnI%2BIFdpbmQgc3BlZWQgOiAxOC45IGttL2ggPGJyPiBSZWxhdGl2ZSBodW1pZGl0eTogMzcgJTxicj4gRWxldmF0aW9uOiAwICAgIDIxNi43NQpOYW1lOiBlbGV2YXRpb24sIGR0eXBlOiBmbG9hdDY0IG0%3D%22%20width%3D%22300%22%20style%3D%22border%3Anone%20%21important%3B%22%20height%3D%22120%22%3E%3C/iframe%3E%60%29%5B0%5D%3B%0A%20%20%20%20%20%20%20%20%20%20%20%20%20%20%20%20popup_ce39db06e2ed4c9f8eba0b4cc9cdd8d3.setContent%28i_frame_2ba9336745cf4dc6a36fcb36d7e12c24%29%3B%0A%20%20%20%20%20%20%20%20%20%20%20%20%0A%0A%20%20%20%20%20%20%20%20%20%20%20%20marker_76e32a4dd9f240998a2dc7f27250fd2d.bindPopup%28popup_ce39db06e2ed4c9f8eba0b4cc9cdd8d3%29%0A%20%20%20%20%20%20%20%20%20%20%20%20%3B%0A%0A%20%20%20%20%20%20%20%20%20%20%20%20%0A%20%20%20%20%20%20%20%20%0A%20%20%20%20%0A%20%20%20%20%20%20%20%20var%20marker_c41b74298ead4abcbfe89a162331f753%20%3D%20L.marker%28%0A%20%20%20%20%20%20%20%20%20%20%20%20%5B44.6184747%2C%204.3061143%5D%2C%0A%20%20%20%20%20%20%20%20%20%20%20%20%7B%0A%20%20%20%20%20%20%20%20%20%20%20%20%20%20%20%20icon%3A%20new%20L.Icon.Default%28%29%0A%20%20%20%20%20%20%20%20%20%20%20%20%20%20%20%20%7D%0A%20%20%20%20%20%20%20%20%20%20%20%20%29.addTo%28map_e1aaac75f621470787d206af9a14ada5%29%3B%0A%20%20%20%20%20%20%20%20%0A%20%20%20%20%0A%0A%20%20%20%20%20%20%20%20%20%20%20%20%20%20%20%20var%20icon_9c4ece9bc8e3460fa54f4b0eb4cded1c%20%3D%20L.AwesomeMarkers.icon%28%7B%0A%20%20%20%20%20%20%20%20%20%20%20%20%20%20%20%20%20%20%20%20icon%3A%20%27fire%27%2C%0A%20%20%20%20%20%20%20%20%20%20%20%20%20%20%20%20%20%20%20%20iconColor%3A%20%27white%27%2C%0A%20%20%20%20%20%20%20%20%20%20%20%20%20%20%20%20%20%20%20%20markerColor%3A%20%27red%27%2C%0A%20%20%20%20%20%20%20%20%20%20%20%20%20%20%20%20%20%20%20%20prefix%3A%20%27glyphicon%27%2C%0A%20%20%20%20%20%20%20%20%20%20%20%20%20%20%20%20%20%20%20%20extraClasses%3A%20%27fa-rotate-0%27%0A%20%20%20%20%20%20%20%20%20%20%20%20%20%20%20%20%20%20%20%20%7D%29%3B%0A%20%20%20%20%20%20%20%20%20%20%20%20%20%20%20%20marker_c41b74298ead4abcbfe89a162331f753.setIcon%28icon_9c4ece9bc8e3460fa54f4b0eb4cded1c%29%3B%0A%20%20%20%20%20%20%20%20%20%20%20%20%0A%20%20%20%20%0A%20%20%20%20%20%20%20%20%20%20%20%20var%20popup_8173f58883c34222b3d5789dfd99daad%20%3D%20L.popup%28%7BmaxWidth%3A%20%27300%27%0A%20%20%20%20%20%20%20%20%20%20%20%20%0A%20%20%20%20%20%20%20%20%20%20%20%20%7D%29%3B%0A%0A%20%20%20%20%20%20%20%20%20%20%20%20%0A%20%20%20%20%20%20%20%20%20%20%20%20%20%20%20%20var%20i_frame_c43b92d657f841adadc273117b6db29c%20%3D%20%24%28%60%3Ciframe%20src%3D%22data%3Atext/html%3Bcharset%3Dutf-8%3Bbase64%2CCiAgICBUZW1wZXJhdHVyZTogMjkuNiDCsEM8YnI%2BIFdpbmQgZGlyZWN0aW9uOiBTVyA8YnI%2BIFdpbmQgc3BlZWQgOiAxOC45IGttL2ggPGJyPiBSZWxhdGl2ZSBodW1pZGl0eTogMzcgJTxicj4gRWxldmF0aW9uOiAyMTYuNzUgbQ%3D%3D%22%20width%3D%22300%22%20style%3D%22border%3Anone%20%21important%3B%22%20height%3D%22120%22%3E%3C/iframe%3E%60%29%5B0%5D%3B%0A%20%20%20%20%20%20%20%20%20%20%20%20%20%20%20%20popup_8173f58883c34222b3d5789dfd99daad.setContent%28i_frame_c43b92d657f841adadc273117b6db29c%29%3B%0A%20%20%20%20%20%20%20%20%20%20%20%20%0A%0A%20%20%20%20%20%20%20%20%20%20%20%20marker_c41b74298ead4abcbfe89a162331f753.bindPopup%28popup_8173f58883c34222b3d5789dfd99daad%29%0A%20%20%20%20%20%20%20%20%20%20%20%20%3B%0A%0A%20%20%20%20%20%20%20%20%20%20%20%20%0A%20%20%20%20%20%20%20%20%0A%20%20%20%20%0A%20%20%20%20%20%20%20%20var%20marker_3a69e89152f641b2ac76bd5aab37efa4%20%3D%20L.marker%28%0A%20%20%20%20%20%20%20%20%20%20%20%20%5B44.6184747%2C%204.3061143%5D%2C%0A%20%20%20%20%20%20%20%20%20%20%20%20%7B%0A%20%20%20%20%20%20%20%20%20%20%20%20%20%20%20%20icon%3A%20new%20L.Icon.Default%28%29%0A%20%20%20%20%20%20%20%20%20%20%20%20%20%20%20%20%7D%0A%20%20%20%20%20%20%20%20%20%20%20%20%29.addTo%28map_e1aaac75f621470787d206af9a14ada5%29%3B%0A%20%20%20%20%20%20%20%20%0A%20%20%20%20%0A%0A%20%20%20%20%20%20%20%20%20%20%20%20%20%20%20%20var%20icon_64b93be069894f028d1c0f967d36fa71%20%3D%20L.AwesomeMarkers.icon%28%7B%0A%20%20%20%20%20%20%20%20%20%20%20%20%20%20%20%20%20%20%20%20icon%3A%20%27fire%27%2C%0A%20%20%20%20%20%20%20%20%20%20%20%20%20%20%20%20%20%20%20%20iconColor%3A%20%27white%27%2C%0A%20%20%20%20%20%20%20%20%20%20%20%20%20%20%20%20%20%20%20%20markerColor%3A%20%27red%27%2C%0A%20%20%20%20%20%20%20%20%20%20%20%20%20%20%20%20%20%20%20%20prefix%3A%20%27glyphicon%27%2C%0A%20%20%20%20%20%20%20%20%20%20%20%20%20%20%20%20%20%20%20%20extraClasses%3A%20%27fa-rotate-0%27%0A%20%20%20%20%20%20%20%20%20%20%20%20%20%20%20%20%20%20%20%20%7D%29%3B%0A%20%20%20%20%20%20%20%20%20%20%20%20%20%20%20%20marker_3a69e89152f641b2ac76bd5aab37efa4.setIcon%28icon_64b93be069894f028d1c0f967d36fa71%29%3B%0A%20%20%20%20%20%20%20%20%20%20%20%20%0A%20%20%20%20%0A%20%20%20%20%20%20%20%20%20%20%20%20var%20popup_fb01a0c6acf844f1b8653a5e89cd4df5%20%3D%20L.popup%28%7BmaxWidth%3A%20%27300%27%0A%20%20%20%20%20%20%20%20%20%20%20%20%0A%20%20%20%20%20%20%20%20%20%20%20%20%7D%29%3B%0A%0A%20%20%20%20%20%20%20%20%20%20%20%20%0A%20%20%20%20%20%20%20%20%20%20%20%20%20%20%20%20var%20i_frame_9b1d2199e296452bb63947ad2a866c67%20%3D%20%24%28%60%3Ciframe%20src%3D%22data%3Atext/html%3Bcharset%3Dutf-8%3Bbase64%2CCiAgICBUZW1wZXJhdHVyZTogMjkuNiDCsEM8YnI%2BIFdpbmQgZGlyZWN0aW9uOiBTVyA8YnI%2BIFdpbmQgc3BlZWQgOiAxOC45IGttL2ggPGJyPiBSZWxhdGl2ZSBodW1pZGl0eTogMzcgJTxicj4gRWxldmF0aW9uOiAyMTYuNzUgbQ%3D%3D%22%20width%3D%22300%22%20style%3D%22border%3Anone%20%21important%3B%22%20height%3D%22120%22%3E%3C/iframe%3E%60%29%5B0%5D%3B%0A%20%20%20%20%20%20%20%20%20%20%20%20%20%20%20%20popup_fb01a0c6acf844f1b8653a5e89cd4df5.setContent%28i_frame_9b1d2199e296452bb63947ad2a866c67%29%3B%0A%20%20%20%20%20%20%20%20%20%20%20%20%0A%0A%20%20%20%20%20%20%20%20%20%20%20%20marker_3a69e89152f641b2ac76bd5aab37efa4.bindPopup%28popup_fb01a0c6acf844f1b8653a5e89cd4df5%29%0A%20%20%20%20%20%20%20%20%20%20%20%20%3B%0A%0A%20%20%20%20%20%20%20%20%20%20%20%20%0A%20%20%20%20%20%20%20%20%0A%20%20%20%20%0A%20%20%20%20%20%20%20%20var%20marker_0eb875977a5541c4a34a1c8cde6fb8f2%20%3D%20L.marker%28%0A%20%20%20%20%20%20%20%20%20%20%20%20%5B44.6184747%2C%204.3061143%5D%2C%0A%20%20%20%20%20%20%20%20%20%20%20%20%7B%0A%20%20%20%20%20%20%20%20%20%20%20%20%20%20%20%20icon%3A%20new%20L.Icon.Default%28%29%0A%20%20%20%20%20%20%20%20%20%20%20%20%20%20%20%20%7D%0A%20%20%20%20%20%20%20%20%20%20%20%20%29.addTo%28map_e1aaac75f621470787d206af9a14ada5%29%3B%0A%20%20%20%20%20%20%20%20%0A%20%20%20%20%0A%0A%20%20%20%20%20%20%20%20%20%20%20%20%20%20%20%20var%20icon_4206aea77b75420bb86a715fe1efae4e%20%3D%20L.AwesomeMarkers.icon%28%7B%0A%20%20%20%20%20%20%20%20%20%20%20%20%20%20%20%20%20%20%20%20icon%3A%20%27fire%27%2C%0A%20%20%20%20%20%20%20%20%20%20%20%20%20%20%20%20%20%20%20%20iconColor%3A%20%27white%27%2C%0A%20%20%20%20%20%20%20%20%20%20%20%20%20%20%20%20%20%20%20%20markerColor%3A%20%27red%27%2C%0A%20%20%20%20%20%20%20%20%20%20%20%20%20%20%20%20%20%20%20%20prefix%3A%20%27glyphicon%27%2C%0A%20%20%20%20%20%20%20%20%20%20%20%20%20%20%20%20%20%20%20%20extraClasses%3A%20%27fa-rotate-0%27%0A%20%20%20%20%20%20%20%20%20%20%20%20%20%20%20%20%20%20%20%20%7D%29%3B%0A%20%20%20%20%20%20%20%20%20%20%20%20%20%20%20%20marker_0eb875977a5541c4a34a1c8cde6fb8f2.setIcon%28icon_4206aea77b75420bb86a715fe1efae4e%29%3B%0A%20%20%20%20%20%20%20%20%20%20%20%20%0A%20%20%20%20%0A%20%20%20%20%20%20%20%20%20%20%20%20var%20popup_b64baccc99b9482da6ebd17115b14ead%20%3D%20L.popup%28%7BmaxWidth%3A%20%27300%27%0A%20%20%20%20%20%20%20%20%20%20%20%20%0A%20%20%20%20%20%20%20%20%20%20%20%20%7D%29%3B%0A%0A%20%20%20%20%20%20%20%20%20%20%20%20%0A%20%20%20%20%20%20%20%20%20%20%20%20%20%20%20%20var%20i_frame_70591f0b2d1642728ac7ce4bd5f7c0ed%20%3D%20%24%28%60%3Ciframe%20src%3D%22data%3Atext/html%3Bcharset%3Dutf-8%3Bbase64%2CCiAgICBUZW1wZXJhdHVyZTogMjguMyDCsEM8YnI%2BIFdpbmQgZGlyZWN0aW9uOiBTU1cgPGJyPiBXaW5kIHNwZWVkIDogMTcuNyBrbS9oIDxicj4gUmVsYXRpdmUgaHVtaWRpdHk6IDM4ICU8YnI%2BIEVsZXZhdGlvbjogMjgyLjI1IG0%3D%22%20width%3D%22300%22%20style%3D%22border%3Anone%20%21important%3B%22%20height%3D%22120%22%3E%3C/iframe%3E%60%29%5B0%5D%3B%0A%20%20%20%20%20%20%20%20%20%20%20%20%20%20%20%20popup_b64baccc99b9482da6ebd17115b14ead.setContent%28i_frame_70591f0b2d1642728ac7ce4bd5f7c0ed%29%3B%0A%20%20%20%20%20%20%20%20%20%20%20%20%0A%0A%20%20%20%20%20%20%20%20%20%20%20%20marker_0eb875977a5541c4a34a1c8cde6fb8f2.bindPopup%28popup_b64baccc99b9482da6ebd17115b14ead%29%0A%20%20%20%20%20%20%20%20%20%20%20%20%3B%0A%0A%20%20%20%20%20%20%20%20%20%20%20%20%0A%20%20%20%20%20%20%20%20%0A%3C/script%3E onload=\"this.contentDocument.open();this.contentDocument.write(    decodeURIComponent(this.getAttribute('data-html')));this.contentDocument.close();\" allowfullscreen webkitallowfullscreen mozallowfullscreen></iframe></div></div>"
      ],
      "text/plain": [
       "<folium.folium.Map at 0x7f3fae206ee0>"
      ]
     },
     "execution_count": 406,
     "metadata": {},
     "output_type": "execute_result"
    }
   ],
   "source": [
    "# Display on map\n",
    "# TODO: convert time and display current data not the first\n",
    "\n",
    "text = ' '.join(['Temperature:', str(hourly['hourly_temperature_2m'][0][idx]), '°C<br> Wind direction:',\n",
    "                 str(degree_to_cardinal(hourly['hourly_winddirection_10m'][0][idx])),\n",
    "                 '<br> Wind speed :',str(hourly['hourly_windspeed_10m'][0][idx]),'km/h <br> Relative humidity:',\n",
    "                str(hourly['hourly_relativehumidity_2m'][0][idx]),'%<br> Elevation:',str(df['elevation'][0]), 'm'])\n",
    "\n",
    "iframe = folium.IFrame(text,\n",
    "                       width=300,\n",
    "                       height=120)\n",
    "\n",
    "popup = folium.Popup(iframe,\n",
    "                     max_width=300)\n",
    "\n",
    "marker = folium.Marker([44.6184747,4.3061143],icon=folium.Icon(color='red', icon='fire', prefix='glyphicon'),\n",
    "                       popup=popup).add_to(frmap)\n",
    "frmap"
   ]
  },
  {
   "cell_type": "code",
   "execution_count": null,
   "id": "d1ab5fa7-c95e-4dbc-9685-6c7eac717c54",
   "metadata": {},
   "outputs": [],
   "source": []
  }
 ],
 "metadata": {
  "kernelspec": {
   "display_name": "Python 3 (ipykernel)",
   "language": "python",
   "name": "python3"
  },
  "language_info": {
   "codemirror_mode": {
    "name": "ipython",
    "version": 3
   },
   "file_extension": ".py",
   "mimetype": "text/x-python",
   "name": "python",
   "nbconvert_exporter": "python",
   "pygments_lexer": "ipython3",
   "version": "3.8.2"
  }
 },
 "nbformat": 4,
 "nbformat_minor": 5
}
