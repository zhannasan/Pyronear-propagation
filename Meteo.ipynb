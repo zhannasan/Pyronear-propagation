{
 "cells": [
  {
   "cell_type": "code",
   "execution_count": 22,
   "id": "9ba7521f-ba35-4b7f-979b-71c1e67fc7e6",
   "metadata": {},
   "outputs": [],
   "source": [
    "#!pip install windrose"
   ]
  },
  {
   "cell_type": "code",
   "execution_count": 23,
   "id": "c6c8039b-8bfd-4f59-aec6-49a155519360",
   "metadata": {},
   "outputs": [],
   "source": [
    "import requests\n",
    "import json\n",
    "import folium\n",
    "from folium.plugins import MousePosition\n",
    "import matplotlib.pyplot as plt\n",
    "import numpy as np\n",
    "import datetime\n",
    "from ipywidgets import interact\n",
    "import ipywidgets as widgets\n",
    "from windrose import WindroseAxes"
   ]
  },
  {
   "cell_type": "code",
   "execution_count": 24,
   "id": "84eafdf4-fa05-442a-9d3a-cdbfa496b38b",
   "metadata": {},
   "outputs": [
    {
     "data": {
      "text/plain": [
       "<folium.plugins.mouse_position.MousePosition at 0x7fa9ab984be0>"
      ]
     },
     "execution_count": 24,
     "metadata": {},
     "output_type": "execute_result"
    }
   ],
   "source": [
    "# Map of France\n",
    "frmap = folium.Map(\n",
    "    location=[47,4],\n",
    "    tiles='cartodbpositron',\n",
    "    zoom_start=6,\n",
    "    control_scale=True\n",
    ")\n",
    "MousePosition().add_to(frmap)"
   ]
  },
  {
   "cell_type": "code",
   "execution_count": 25,
   "id": "3f8bd3d9-cb2d-4555-9ff6-3ec6df008482",
   "metadata": {},
   "outputs": [],
   "source": [
    "# Convert degrees to cardinal direction\n",
    "def degree_to_cardinal(theta):\n",
    "    if  11.25>=theta>=348.75:\n",
    "        return 'N'\n",
    "    elif 11.25<theta<= 33.75:\n",
    "        return 'NNE'\n",
    "    elif 33.75 <theta<= 56.25:\n",
    "        return 'NE'\n",
    "    elif 56.25 <theta<= 78.75:\n",
    "        return 'ENE'\n",
    "    elif 78.75 <theta<= 101.25:\n",
    "        return 'E'\n",
    "    elif 101.25 <theta<= 123.75:\n",
    "        return 'ESE'\n",
    "    elif 123.75 <theta<= 146.25:\n",
    "        return 'SE'\n",
    "    elif 146.25 <theta<= 168.75:\n",
    "        return 'SSE'\n",
    "    elif 168.75 <theta<= 191.25:\n",
    "        return 'S'\n",
    "    elif 191.25 <theta<= 213.75:\n",
    "        return 'SSW'\n",
    "    elif 213.75 <theta<= 236.25:\n",
    "        return 'SW'\n",
    "    elif 236.25 <theta<= 258.75:\n",
    "        return 'WSW'\n",
    "    elif 258.75 <theta<= 281.25:\n",
    "        return 'W'\n",
    "    elif 281.25 <theta<= 303.75:\n",
    "        return 'WNW'\n",
    "    elif 303.75  <theta<= 326.25:\n",
    "        return 'NW'\n",
    "    elif 326.25 <theta<= 348.75:\n",
    "        return 'NNW'"
   ]
  },
  {
   "cell_type": "code",
   "execution_count": 26,
   "id": "5e5a4816-7fe7-4356-8979-f1a306999120",
   "metadata": {},
   "outputs": [],
   "source": [
    "# Get a 7 day hourly prediction\n",
    "# Here we get temperature and relative humidity within 2m, precipitation, wind speed and wind direction within 10 m\n",
    "locations=[43.6184,5.306]\n",
    "url=\"https://api.open-meteo.com/v1/forecast?latitude=\"+str(locations[0])+\"&longitude=\"+str(locations[1])+\"&hourly=temperature_2m,relativehumidity_2m,precipitation,windspeed_10m,winddirection_10m\"\n",
    "x = requests.get(url)\n",
    "y = json.loads(x.text)\n",
    "x.close()"
   ]
  },
  {
   "cell_type": "code",
   "execution_count": 27,
   "id": "65bf5d10-b2c5-4094-b9dc-066e92823f31",
   "metadata": {},
   "outputs": [
    {
     "data": {
      "text/plain": [
       "dict_keys(['hourly', 'generationtime_ms', 'elevation', 'utc_offset_seconds', 'hourly_units', 'latitude', 'longitude'])"
      ]
     },
     "execution_count": 27,
     "metadata": {},
     "output_type": "execute_result"
    }
   ],
   "source": [
    "# check keys\n",
    "y.keys()"
   ]
  },
  {
   "cell_type": "code",
   "execution_count": 28,
   "id": "8c39ab1e-f3f8-47ca-ab0f-549ae1008509",
   "metadata": {},
   "outputs": [
    {
     "data": {
      "text/plain": [
       "dict_keys(['precipitation', 'relativehumidity_2m', 'windspeed_10m', 'winddirection_10m', 'time', 'temperature_2m'])"
      ]
     },
     "execution_count": 28,
     "metadata": {},
     "output_type": "execute_result"
    }
   ],
   "source": [
    "# check hourly data keys\n",
    "hourly=y['hourly']\n",
    "hourly.keys()"
   ]
  },
  {
   "cell_type": "code",
   "execution_count": 29,
   "id": "3f3788a1-780f-42cd-9acd-6e3ae729e903",
   "metadata": {},
   "outputs": [
    {
     "data": {
      "application/vnd.jupyter.widget-view+json": {
       "model_id": "0b6bd313de054ee9a9a2b982683d6890",
       "version_major": 2,
       "version_minor": 0
      },
      "text/plain": [
       "interactive(children=(Dropdown(description='x', options={'precipitation': [0, 0, 0, 0, 0, 0, 0, 0, 0, 0, 0, 0,…"
      ]
     },
     "metadata": {},
     "output_type": "display_data"
    },
    {
     "data": {
      "text/plain": [
       "<function __main__.f(x)>"
      ]
     },
     "execution_count": 29,
     "metadata": {},
     "output_type": "execute_result"
    }
   ],
   "source": [
    "# interactive plots\n",
    "def f(x):\n",
    "    plt.plot(np.arange(0,24,1),x[:24])\n",
    "    plt.xlabel('Hours', fontsize=18)\n",
    "interact(f,x=hourly)"
   ]
  },
  {
   "cell_type": "code",
   "execution_count": 30,
   "id": "5fc2d499-e7c5-4853-a9eb-4fe9422d6b3c",
   "metadata": {},
   "outputs": [
    {
     "data": {
      "text/html": [
       "<div style=\"width:100%;\"><div style=\"position:relative;width:100%;height:0;padding-bottom:60%;\"><span style=\"color:#565656\">Make this Notebook Trusted to load map: File -> Trust Notebook</span><iframe src=\"about:blank\" style=\"position:absolute;width:100%;height:100%;left:0;top:0;border:none !important;\" data-html=%3C%21DOCTYPE%20html%3E%0A%3Chead%3E%20%20%20%20%0A%20%20%20%20%3Cmeta%20http-equiv%3D%22content-type%22%20content%3D%22text/html%3B%20charset%3DUTF-8%22%20/%3E%0A%20%20%20%20%3Cscript%3EL_PREFER_CANVAS%3Dfalse%3B%20L_NO_TOUCH%3Dfalse%3B%20L_DISABLE_3D%3Dfalse%3B%3C/script%3E%0A%20%20%20%20%3Cscript%20src%3D%22https%3A//cdn.jsdelivr.net/npm/leaflet%401.3.4/dist/leaflet.js%22%3E%3C/script%3E%0A%20%20%20%20%3Cscript%20src%3D%22https%3A//ajax.googleapis.com/ajax/libs/jquery/1.11.1/jquery.min.js%22%3E%3C/script%3E%0A%20%20%20%20%3Cscript%20src%3D%22https%3A//maxcdn.bootstrapcdn.com/bootstrap/3.2.0/js/bootstrap.min.js%22%3E%3C/script%3E%0A%20%20%20%20%3Cscript%20src%3D%22https%3A//cdnjs.cloudflare.com/ajax/libs/Leaflet.awesome-markers/2.0.2/leaflet.awesome-markers.js%22%3E%3C/script%3E%0A%20%20%20%20%3Clink%20rel%3D%22stylesheet%22%20href%3D%22https%3A//cdn.jsdelivr.net/npm/leaflet%401.3.4/dist/leaflet.css%22/%3E%0A%20%20%20%20%3Clink%20rel%3D%22stylesheet%22%20href%3D%22https%3A//maxcdn.bootstrapcdn.com/bootstrap/3.2.0/css/bootstrap.min.css%22/%3E%0A%20%20%20%20%3Clink%20rel%3D%22stylesheet%22%20href%3D%22https%3A//maxcdn.bootstrapcdn.com/bootstrap/3.2.0/css/bootstrap-theme.min.css%22/%3E%0A%20%20%20%20%3Clink%20rel%3D%22stylesheet%22%20href%3D%22https%3A//maxcdn.bootstrapcdn.com/font-awesome/4.6.3/css/font-awesome.min.css%22/%3E%0A%20%20%20%20%3Clink%20rel%3D%22stylesheet%22%20href%3D%22https%3A//cdnjs.cloudflare.com/ajax/libs/Leaflet.awesome-markers/2.0.2/leaflet.awesome-markers.css%22/%3E%0A%20%20%20%20%3Clink%20rel%3D%22stylesheet%22%20href%3D%22https%3A//rawcdn.githack.com/python-visualization/folium/master/folium/templates/leaflet.awesome.rotate.css%22/%3E%0A%20%20%20%20%3Cstyle%3Ehtml%2C%20body%20%7Bwidth%3A%20100%25%3Bheight%3A%20100%25%3Bmargin%3A%200%3Bpadding%3A%200%3B%7D%3C/style%3E%0A%20%20%20%20%3Cstyle%3E%23map%20%7Bposition%3Aabsolute%3Btop%3A0%3Bbottom%3A0%3Bright%3A0%3Bleft%3A0%3B%7D%3C/style%3E%0A%20%20%20%20%0A%20%20%20%20%3Cmeta%20name%3D%22viewport%22%20content%3D%22width%3Ddevice-width%2C%0A%20%20%20%20%20%20%20%20initial-scale%3D1.0%2C%20maximum-scale%3D1.0%2C%20user-scalable%3Dno%22%20/%3E%0A%20%20%20%20%3Cstyle%3E%23map_28971d092b3f4a37a49ba4bbc5622344%20%7B%0A%20%20%20%20%20%20%20%20position%3A%20relative%3B%0A%20%20%20%20%20%20%20%20width%3A%20100.0%25%3B%0A%20%20%20%20%20%20%20%20height%3A%20100.0%25%3B%0A%20%20%20%20%20%20%20%20left%3A%200.0%25%3B%0A%20%20%20%20%20%20%20%20top%3A%200.0%25%3B%0A%20%20%20%20%20%20%20%20%7D%0A%20%20%20%20%3C/style%3E%0A%20%20%20%20%3Cscript%20src%3D%22https%3A//rawcdn.githack.com/ardhi/Leaflet.MousePosition/c32f1c84/src/L.Control.MousePosition.js%22%3E%3C/script%3E%0A%20%20%20%20%3Clink%20rel%3D%22stylesheet%22%20href%3D%22https%3A//rawcdn.githack.com/ardhi/Leaflet.MousePosition/c32f1c84/src/L.Control.MousePosition.css%22/%3E%0A%3C/head%3E%0A%3Cbody%3E%20%20%20%20%0A%20%20%20%20%0A%20%20%20%20%3Cdiv%20class%3D%22folium-map%22%20id%3D%22map_28971d092b3f4a37a49ba4bbc5622344%22%20%3E%3C/div%3E%0A%3C/body%3E%0A%3Cscript%3E%20%20%20%20%0A%20%20%20%20%0A%20%20%20%20%0A%20%20%20%20%20%20%20%20var%20bounds%20%3D%20null%3B%0A%20%20%20%20%0A%0A%20%20%20%20var%20map_28971d092b3f4a37a49ba4bbc5622344%20%3D%20L.map%28%0A%20%20%20%20%20%20%20%20%27map_28971d092b3f4a37a49ba4bbc5622344%27%2C%20%7B%0A%20%20%20%20%20%20%20%20center%3A%20%5B47%2C%204%5D%2C%0A%20%20%20%20%20%20%20%20zoom%3A%206%2C%0A%20%20%20%20%20%20%20%20maxBounds%3A%20bounds%2C%0A%20%20%20%20%20%20%20%20layers%3A%20%5B%5D%2C%0A%20%20%20%20%20%20%20%20worldCopyJump%3A%20false%2C%0A%20%20%20%20%20%20%20%20crs%3A%20L.CRS.EPSG3857%2C%0A%20%20%20%20%20%20%20%20zoomControl%3A%20true%2C%0A%20%20%20%20%20%20%20%20%7D%29%3B%0AL.control.scale%28%29.addTo%28map_28971d092b3f4a37a49ba4bbc5622344%29%3B%0A%20%20%20%20%0A%20%20%20%20%0A%20%20%20%20var%20tile_layer_63ecaa60258742d4a9bd99afe8591df6%20%3D%20L.tileLayer%28%0A%20%20%20%20%20%20%20%20%27https%3A//cartodb-basemaps-%7Bs%7D.global.ssl.fastly.net/light_all/%7Bz%7D/%7Bx%7D/%7By%7D.png%27%2C%0A%20%20%20%20%20%20%20%20%7B%0A%20%20%20%20%20%20%20%20%22attribution%22%3A%20null%2C%0A%20%20%20%20%20%20%20%20%22detectRetina%22%3A%20false%2C%0A%20%20%20%20%20%20%20%20%22maxNativeZoom%22%3A%2018%2C%0A%20%20%20%20%20%20%20%20%22maxZoom%22%3A%2018%2C%0A%20%20%20%20%20%20%20%20%22minZoom%22%3A%200%2C%0A%20%20%20%20%20%20%20%20%22noWrap%22%3A%20false%2C%0A%20%20%20%20%20%20%20%20%22opacity%22%3A%201%2C%0A%20%20%20%20%20%20%20%20%22subdomains%22%3A%20%22abc%22%2C%0A%20%20%20%20%20%20%20%20%22tms%22%3A%20false%0A%7D%29.addTo%28map_28971d092b3f4a37a49ba4bbc5622344%29%3B%0A%20%20%20%20%0A%0A%20%20%20%20%20%20%20%20var%20mouse_position_c5c0e321fbd84aa8882c978a514dae6f%20%3D%20new%20L.Control.MousePosition%28%0A%20%20%20%20%20%20%20%20%20%20%20%20%7B%0A%20%20%22emptyString%22%3A%20%22Unavailable%22%2C%0A%20%20%22lngFirst%22%3A%20false%2C%0A%20%20%22numDigits%22%3A%205%2C%0A%20%20%22position%22%3A%20%22bottomright%22%2C%0A%20%20%22prefix%22%3A%20%22%22%2C%0A%20%20%22separator%22%3A%20%22%20%3A%20%22%0A%7D%29%3B%0A%20%20%20%20%20%20%20%20mouse_position_c5c0e321fbd84aa8882c978a514dae6f.options%5B%22latFormatter%22%5D%20%3D%20undefined%3B%0A%20%20%20%20%20%20%20%20mouse_position_c5c0e321fbd84aa8882c978a514dae6f.options%5B%22lngFormatter%22%5D%20%3D%20undefined%3B%0A%20%20%20%20%20%20%20%20map_28971d092b3f4a37a49ba4bbc5622344.addControl%28mouse_position_c5c0e321fbd84aa8882c978a514dae6f%29%3B%0A%0A%20%20%20%20%20%20%20%20%0A%20%20%20%20%0A%20%20%20%20%20%20%20%20var%20marker_5398cd0acfa1444db1a334b28bbff91f%20%3D%20L.marker%28%0A%20%20%20%20%20%20%20%20%20%20%20%20%5B44.6184747%2C%204.3061143%5D%2C%0A%20%20%20%20%20%20%20%20%20%20%20%20%7B%0A%20%20%20%20%20%20%20%20%20%20%20%20%20%20%20%20icon%3A%20new%20L.Icon.Default%28%29%0A%20%20%20%20%20%20%20%20%20%20%20%20%20%20%20%20%7D%0A%20%20%20%20%20%20%20%20%20%20%20%20%29.addTo%28map_28971d092b3f4a37a49ba4bbc5622344%29%3B%0A%20%20%20%20%20%20%20%20%0A%20%20%20%20%0A%0A%20%20%20%20%20%20%20%20%20%20%20%20%20%20%20%20var%20icon_1853eb32206347d6b91cf61201200b0d%20%3D%20L.AwesomeMarkers.icon%28%7B%0A%20%20%20%20%20%20%20%20%20%20%20%20%20%20%20%20%20%20%20%20icon%3A%20%27fire%27%2C%0A%20%20%20%20%20%20%20%20%20%20%20%20%20%20%20%20%20%20%20%20iconColor%3A%20%27white%27%2C%0A%20%20%20%20%20%20%20%20%20%20%20%20%20%20%20%20%20%20%20%20markerColor%3A%20%27red%27%2C%0A%20%20%20%20%20%20%20%20%20%20%20%20%20%20%20%20%20%20%20%20prefix%3A%20%27glyphicon%27%2C%0A%20%20%20%20%20%20%20%20%20%20%20%20%20%20%20%20%20%20%20%20extraClasses%3A%20%27fa-rotate-0%27%0A%20%20%20%20%20%20%20%20%20%20%20%20%20%20%20%20%20%20%20%20%7D%29%3B%0A%20%20%20%20%20%20%20%20%20%20%20%20%20%20%20%20marker_5398cd0acfa1444db1a334b28bbff91f.setIcon%28icon_1853eb32206347d6b91cf61201200b0d%29%3B%0A%20%20%20%20%20%20%20%20%20%20%20%20%0A%20%20%20%20%0A%20%20%20%20%20%20%20%20%20%20%20%20var%20popup_762bb8e5a07944aa879ed3f525c836be%20%3D%20L.popup%28%7BmaxWidth%3A%20%27300%27%0A%20%20%20%20%20%20%20%20%20%20%20%20%0A%20%20%20%20%20%20%20%20%20%20%20%20%7D%29%3B%0A%0A%20%20%20%20%20%20%20%20%20%20%20%20%0A%20%20%20%20%20%20%20%20%20%20%20%20%20%20%20%20var%20i_frame_e263117fca0c4844a049507eaf31d4c7%20%3D%20%24%28%60%3Ciframe%20src%3D%22data%3Atext/html%3Bcharset%3Dutf-8%3Bbase64%2CCiAgICBUZW1wZXJhdHVyZTogMTcuNSDCsEM8YnI%2BIFdpbmQgZGlyZWN0aW9uOiBFIDxicj4gV2luZCBzcGVlZCA6IDMuMSBrbS9oIDxicj4gUmVsYXRpdmUgaHVtaWRpdHk6IDY3ICU8YnI%2BIEVsZXZhdGlvbjogMjE2Ljc1IG0%3D%22%20width%3D%22300%22%20style%3D%22border%3Anone%20%21important%3B%22%20height%3D%22120%22%3E%3C/iframe%3E%60%29%5B0%5D%3B%0A%20%20%20%20%20%20%20%20%20%20%20%20%20%20%20%20popup_762bb8e5a07944aa879ed3f525c836be.setContent%28i_frame_e263117fca0c4844a049507eaf31d4c7%29%3B%0A%20%20%20%20%20%20%20%20%20%20%20%20%0A%0A%20%20%20%20%20%20%20%20%20%20%20%20marker_5398cd0acfa1444db1a334b28bbff91f.bindPopup%28popup_762bb8e5a07944aa879ed3f525c836be%29%0A%20%20%20%20%20%20%20%20%20%20%20%20%3B%0A%0A%20%20%20%20%20%20%20%20%20%20%20%20%0A%20%20%20%20%20%20%20%20%0A%3C/script%3E onload=\"this.contentDocument.open();this.contentDocument.write(    decodeURIComponent(this.getAttribute('data-html')));this.contentDocument.close();\" allowfullscreen webkitallowfullscreen mozallowfullscreen></iframe></div></div>"
      ],
      "text/plain": [
       "<folium.folium.Map at 0x7fa9ab91fb80>"
      ]
     },
     "execution_count": 30,
     "metadata": {},
     "output_type": "execute_result"
    }
   ],
   "source": [
    "# Display on map\n",
    "# TODO: convert time and display current data not the first\n",
    "text = ' '.join(['Temperature:', str(hourly['temperature_2m'][0]), '°C<br> Wind direction:',str(degree_to_cardinal(hourly['winddirection_10m'][0])),\n",
    "                 '<br> Wind speed :',str(hourly['windspeed_10m'][0]),'km/h <br> Relative humidity:',\n",
    "                str(hourly['relativehumidity_2m'][0]),'%<br> Elevation:',str(y['elevation']), 'm'])\n",
    "\n",
    "iframe = folium.IFrame(text,\n",
    "                       width=300,\n",
    "                       height=120)\n",
    "\n",
    "popup = folium.Popup(iframe,\n",
    "                     max_width=300)\n",
    "\n",
    "marker = folium.Marker([44.6184747,4.3061143],icon=folium.Icon(color='red', icon='fire', prefix='glyphicon'),\n",
    "                       popup=popup).add_to(frmap)\n",
    "frmap"
   ]
  },
  {
   "cell_type": "code",
   "execution_count": null,
   "id": "08fe65e5-6332-4597-9bc4-480cacbe0f83",
   "metadata": {},
   "outputs": [],
   "source": []
  }
 ],
 "metadata": {
  "kernelspec": {
   "display_name": "Python 3 (ipykernel)",
   "language": "python",
   "name": "python3"
  },
  "language_info": {
   "codemirror_mode": {
    "name": "ipython",
    "version": 3
   },
   "file_extension": ".py",
   "mimetype": "text/x-python",
   "name": "python",
   "nbconvert_exporter": "python",
   "pygments_lexer": "ipython3",
   "version": "3.8.2"
  }
 },
 "nbformat": 4,
 "nbformat_minor": 5
}
